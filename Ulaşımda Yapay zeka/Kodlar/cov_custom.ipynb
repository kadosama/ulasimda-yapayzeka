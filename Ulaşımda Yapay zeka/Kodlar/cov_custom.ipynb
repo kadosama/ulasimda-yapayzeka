{
 "cells": [
  {
   "cell_type": "markdown",
   "metadata": {
    "colab_type": "text",
    "id": "tdTnYni3TKTL"
   },
   "source": [
    "**Get the runtime details** "
   ]
  },
  {
   "cell_type": "code",
   "execution_count": 1,
   "metadata": {
    "colab": {},
    "colab_type": "code",
    "id": "5npHLeQpTGcW"
   },
   "outputs": [
    {
     "name": "stderr",
     "output_type": "stream",
     "text": [
      "UsageError: Line magic function `%cat` not found.\n"
     ]
    }
   ],
   "source": [
    "%cat /etc/lsb-release"
   ]
  },
  {
   "cell_type": "markdown",
   "metadata": {
    "colab_type": "text",
    "id": "P4cc0_B6UMXY"
   },
   "source": [
    "**Update the Repo list**"
   ]
  },
  {
   "cell_type": "code",
   "execution_count": null,
   "metadata": {
    "colab": {},
    "colab_type": "code",
    "id": "7Lblns6KUSWf"
   },
   "outputs": [],
   "source": [
    "!apt-get update"
   ]
  },
  {
   "cell_type": "markdown",
   "metadata": {
    "colab_type": "text",
    "id": "DdQ5UHR3VNOb"
   },
   "source": [
    "**Show the current working directory**"
   ]
  },
  {
   "cell_type": "code",
   "execution_count": null,
   "metadata": {
    "colab": {},
    "colab_type": "code",
    "id": "ORch9GbmVR2W"
   },
   "outputs": [],
   "source": [
    "%pwd"
   ]
  },
  {
   "cell_type": "markdown",
   "metadata": {
    "colab_type": "text",
    "id": "wtlgNic1VhIQ"
   },
   "source": [
    "**Unzip the darknet zip file to the /content folder**"
   ]
  },
  {
   "cell_type": "code",
   "execution_count": null,
   "metadata": {
    "colab": {},
    "colab_type": "code",
    "id": "_HGHSSggVo7g"
   },
   "outputs": [],
   "source": [
    "!unzip \"/content/drive/My Drive/custom_cov_model/darknet.zip\""
   ]
  },
  {
   "cell_type": "markdown",
   "metadata": {
    "colab_type": "text",
    "id": "O3hu8Vt9WGnf"
   },
   "source": [
    "**Go inside the darknet folder of our runtime**"
   ]
  },
  {
   "cell_type": "code",
   "execution_count": null,
   "metadata": {
    "colab": {},
    "colab_type": "code",
    "id": "TKP1sbP7WKU3"
   },
   "outputs": [],
   "source": [
    "%cd /content/darknet"
   ]
  },
  {
   "cell_type": "markdown",
   "metadata": {
    "colab_type": "text",
    "id": "G6CCT6BNWwrF"
   },
   "source": [
    "**Install dos2unix to convert dos files to unix encoding**"
   ]
  },
  {
   "cell_type": "code",
   "execution_count": null,
   "metadata": {
    "colab": {},
    "colab_type": "code",
    "id": "C980JkU8W351"
   },
   "outputs": [],
   "source": [
    "!sudo apt install dos2unix"
   ]
  },
  {
   "cell_type": "markdown",
   "metadata": {
    "colab_type": "text",
    "id": "KB9m7cU0XbWG"
   },
   "source": [
    "**Convert all files in darknet folder to unix encoding**\n",
    "\n"
   ]
  },
  {
   "cell_type": "code",
   "execution_count": null,
   "metadata": {
    "colab": {},
    "colab_type": "code",
    "id": "a_qgRDusXo39"
   },
   "outputs": [],
   "source": [
    "!find . -type f -print0 | xargs -0 dos2unix"
   ]
  },
  {
   "cell_type": "markdown",
   "metadata": {
    "colab_type": "text",
    "id": "fROQ4dCIYper"
   },
   "source": [
    "**Give executable permission for files in /content/darknet**"
   ]
  },
  {
   "cell_type": "code",
   "execution_count": null,
   "metadata": {
    "colab": {},
    "colab_type": "code",
    "id": "uNSAot4gYvma"
   },
   "outputs": [],
   "source": [
    "!chmod +x /content/darknet"
   ]
  },
  {
   "cell_type": "markdown",
   "metadata": {
    "colab_type": "text",
    "id": "j97-Ua7XZDDu"
   },
   "source": [
    "**make sure of the current directory**"
   ]
  },
  {
   "cell_type": "code",
   "execution_count": null,
   "metadata": {
    "colab": {},
    "colab_type": "code",
    "id": "m1OCBYGcZHZk"
   },
   "outputs": [],
   "source": [
    "%pwd"
   ]
  },
  {
   "cell_type": "markdown",
   "metadata": {
    "colab_type": "text",
    "id": "MD7XpdcaZLV7"
   },
   "source": [
    "**Compile the darknet framework**"
   ]
  },
  {
   "cell_type": "code",
   "execution_count": null,
   "metadata": {
    "colab": {},
    "colab_type": "code",
    "id": "XfbkVDizZQCd"
   },
   "outputs": [],
   "source": [
    "!make"
   ]
  },
  {
   "cell_type": "markdown",
   "metadata": {
    "colab_type": "text",
    "id": "XwucoNvraLT7"
   },
   "source": [
    "**Test the darkent framework with sample object detection**\n",
    "\n",
    "> Indented block\n",
    "\n"
   ]
  },
  {
   "cell_type": "code",
   "execution_count": null,
   "metadata": {
    "colab": {},
    "colab_type": "code",
    "id": "SPQ_259oaWFz"
   },
   "outputs": [],
   "source": [
    "!./darknet detector test cfg/coco.data cfg/yolov4.cfg yolov4.weights data/person.jpg "
   ]
  },
  {
   "cell_type": "markdown",
   "metadata": {
    "colab_type": "text",
    "id": "KZ60iyAtZmbo"
   },
   "source": [
    "**Remove the default backup folder of darknet in runtime**"
   ]
  },
  {
   "cell_type": "code",
   "execution_count": null,
   "metadata": {
    "colab": {},
    "colab_type": "code",
    "id": "Y7TQLwepZvlr"
   },
   "outputs": [],
   "source": [
    "!rm /content/darknet/backup -r "
   ]
  },
  {
   "cell_type": "markdown",
   "metadata": {
    "colab_type": "text",
    "id": "I8VX0ITMafqm"
   },
   "source": [
    "**Create a symbolic link from runtime darknet folder to google drive backup folder with the name 'backup'**"
   ]
  },
  {
   "cell_type": "code",
   "execution_count": null,
   "metadata": {
    "colab": {},
    "colab_type": "code",
    "id": "7LxhQo63dbwP"
   },
   "outputs": [],
   "source": [
    "!ln -s /content/drive/'My Drive'/cov_weights/backup /content/darknet"
   ]
  },
  {
   "cell_type": "markdown",
   "metadata": {
    "colab_type": "text",
    "id": "m3COQSDWln2i"
   },
   "source": [
    "**check the directory**"
   ]
  },
  {
   "cell_type": "code",
   "execution_count": 9,
   "metadata": {
    "colab": {},
    "colab_type": "code",
    "id": "rVKSeI0ulyro"
   },
   "outputs": [
    {
     "data": {
      "text/plain": [
       "'C:\\\\Users\\\\Ezgi\\\\Desktop\\\\code\\\\volov4\\\\darknet'"
      ]
     },
     "execution_count": 9,
     "metadata": {},
     "output_type": "execute_result"
    }
   ],
   "source": [
    "%pwd"
   ]
  },
  {
   "cell_type": "markdown",
   "metadata": {
    "colab_type": "text",
    "id": "40zIU33rl20a"
   },
   "source": [
    "**Proceed with fresh Training Using the cov dataset**"
   ]
  },
  {
   "cell_type": "code",
   "execution_count": 14,
   "metadata": {
    "colab": {},
    "colab_type": "code",
    "id": "9-xV-PEal_Tg"
   },
   "outputs": [
    {
     "name": "stderr",
     "output_type": "stream",
     "text": [
      "'..' is not recognized as an internal or external command,\n",
      "operable program or batch file.\n"
     ]
    }
   ],
   "source": [
    "!../darknet detector train cov_data/cov.data cov_yolov4.cfg yolov4.conv.137 -dont_show -map"
   ]
  },
  {
   "cell_type": "markdown",
   "metadata": {
    "colab_type": "text",
    "id": "9zZpmcnUFROH"
   },
   "source": [
    "**Resuming training from the last best weight file**"
   ]
  },
  {
   "cell_type": "code",
   "execution_count": null,
   "metadata": {
    "colab": {},
    "colab_type": "code",
    "id": "jDEUB3UsFW5X"
   },
   "outputs": [],
   "source": [
    "#!./darknet detector train cov_data/cov.data cov_yolov4.cfg /content/drive/'My Drive'/cov_weights/backup/cov_yolov4_best.weights"
   ]
  }
 ],
 "metadata": {
  "colab": {
   "collapsed_sections": [],
   "name": "cov_custom.ipynb",
   "provenance": []
  },
  "kernelspec": {
   "display_name": "Python 3",
   "language": "python",
   "name": "python3"
  },
  "language_info": {
   "codemirror_mode": {
    "name": "ipython",
    "version": 3
   },
   "file_extension": ".py",
   "mimetype": "text/x-python",
   "name": "python",
   "nbconvert_exporter": "python",
   "pygments_lexer": "ipython3",
   "version": "3.8.5"
  }
 },
 "nbformat": 4,
 "nbformat_minor": 1
}
